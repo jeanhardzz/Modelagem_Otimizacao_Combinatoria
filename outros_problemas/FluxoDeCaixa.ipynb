{
 "cells": [
  {
   "cell_type": "markdown",
   "id": "57f59393",
   "metadata": {},
   "source": [
    "### Modelagem do Problema do Fluxo de Caixa\n",
    "Prof. Alexandre Salles da Cunha"
   ]
  },
  {
   "cell_type": "code",
   "execution_count": 21,
   "id": "3b30c11a",
   "metadata": {},
   "outputs": [],
   "source": [
    "from pyomo.environ import *\n",
    "from pyomo.opt import SolverStatus, TerminationCondition\n",
    "import numpy as np\n",
    "import math"
   ]
  },
  {
   "cell_type": "code",
   "execution_count": 22,
   "id": "d4ac9ab0",
   "metadata": {},
   "outputs": [],
   "source": [
    "m = 10 # no. de titulos\n",
    "n = 6  # no. de meses\n",
    "J = list(range(0,m)) # conjunto de titulos\n",
    "I = list(range(0,n)) # conjunto de períodos de tempo\n",
    "p = [109.0, 94.8, 99.5, 93.1, 97.2, 92.9, 110.0, 104.0, 102, 95.2]\n",
    "y   = [100, 200, 800, 100, 800, 1200]\n",
    "c = [[10.0, 7.0, 8.0, 6.0, 7.0, 5.0, 10.0, 8.0, 7.0, 100],\n",
    "                  [10.0, 7.0, 8.0, 6.0, 7.0, 5.0, 10.0, 8.0, 107.0,0.0],\n",
    "                  [10.0, 7.0, 8.0, 6.0, 7.0, 5.0, 110.0, 108.0, 0.0, 0.0],\n",
    "                  [10.0, 7.0, 8.0, 6.0, 7.0, 105.0, 0.0, 0.0, 0.0, 0.0],\n",
    "                  [10.0, 7.0, 8.0, 106.0, 107.0, 0.0, 0.0, 0.0, 0.0, 0.0],\n",
    "                  [110.0, 107.0, 108.0, 0.0, 0.0, 0.0, 0.0, 0.0, 0.0, 0.0]]\n",
    "                  "
   ]
  },
  {
   "cell_type": "code",
   "execution_count": 23,
   "id": "70877392",
   "metadata": {},
   "outputs": [],
   "source": [
    "def RestricaoNecessidadeCaixa(Model,J,i,c,y):\n",
    "    expressao = sum(Model.x[j] * c[i][j] for j in J) - y[i]\n",
    "    return expressao >= 0.0"
   ]
  },
  {
   "cell_type": "code",
   "execution_count": 24,
   "id": "cc4333ef",
   "metadata": {},
   "outputs": [],
   "source": [
    "Caixa = ConcreteModel()\n",
    "# x representa a quantidade de titulos do tipo j adquirida no periodo i\n",
    "Caixa.x = Var(J,within = NonNegativeReals)\n",
    "Caixa.obj = Objective(expr = sum(p[j] * Caixa.x[j] for j in J), sense = minimize)\n",
    "Caixa.atendimento = ConstraintList()\n",
    "for i in I:\n",
    "    expressao = RestricaoNecessidadeCaixa(Caixa,J,i,c,y)\n",
    "    Caixa.atendimento.add(expressao)"
   ]
  },
  {
   "cell_type": "code",
   "execution_count": 40,
   "id": "143f3e83",
   "metadata": {},
   "outputs": [
    {
     "name": "stdout",
     "output_type": "stream",
     "text": [
      "GLPSOL: GLPK LP/MIP Solver, v4.65\n",
      "Parameter(s) specified in the command line:\n",
      " --write /tmp/tmpjgb0og1o.glpk.raw --wglp /tmp/tmpk98ojvsj.glpk.glp --cpxlp\n",
      " /tmp/tmp4lsil960.pyomo.lp\n",
      "Reading problem data from '/tmp/tmp4lsil960.pyomo.lp'...\n",
      "7 rows, 11 columns, 42 non-zeros\n",
      "91 lines were read\n",
      "Writing problem data to '/tmp/tmpk98ojvsj.glpk.glp'...\n",
      "80 lines were written\n",
      "GLPK Simplex Optimizer, v4.65\n",
      "7 rows, 11 columns, 42 non-zeros\n",
      "Preprocessing...\n",
      "6 rows, 10 columns, 41 non-zeros\n",
      "Scaling...\n",
      " A: min|aij| =  5.000e+00  max|aij| =  1.100e+02  ratio =  2.200e+01\n",
      "GM: min|aij| =  2.345e-01  max|aij| =  4.264e+00  ratio =  1.818e+01\n",
      "EQ: min|aij| =  5.940e-02  max|aij| =  1.000e+00  ratio =  1.684e+01\n",
      "Constructing initial basis...\n",
      "Size of triangular part is 6\n",
      "      0: obj =   0.000000000e+00 inf =   2.422e+03 (6)\n",
      "      5: obj =   2.759256000e+03 inf =   0.000e+00 (0)\n",
      "*     6: obj =   2.381138830e+03 inf =   0.000e+00 (0)\n",
      "OPTIMAL LP SOLUTION FOUND\n",
      "Time used:   0.0 secs\n",
      "Memory used: 0.0 Mb (42043 bytes)\n",
      "Writing basic solution to '/tmp/tmpjgb0og1o.glpk.raw'...\n",
      "27 lines were written\n",
      "Custo total dos titulos = 2381.14\n",
      "Titulo 1 quantidade, x = 11.21\n",
      "Titulo 3 quantidade, x =  6.81\n",
      "Titulo 7 quantidade, x =  6.30\n",
      "Titulo 8 quantidade, x =  0.28\n"
     ]
    }
   ],
   "source": [
    "#solver = SolverFactory('xpress_direct') ## pacote comercial de alto desempenho\n",
    "solver = SolverFactory('glpk') ## codigo shareware, gratuito de prog linear inteira\n",
    "#solver = SolverFactory('ipopt') ## codigo de programaçao não linear, gratuito\n",
    "solver.solve(Caixa,tee = True)\n",
    "solver.solve(Caixa)\n",
    "\n",
    "\n",
    "custo = value(Caixa.obj)\n",
    "print(\"Custo total dos titulos = %5.2f\" % custo)\n",
    "for j in J:\n",
    "    if value(Caixa.x[j]) > 0.0:\n",
    "        print('Titulo',j,\"quantidade, x = %5.2f\" % value(Caixa.x[j]))\n",
    "\n"
   ]
  },
  {
   "cell_type": "code",
   "execution_count": null,
   "id": "8539ac92",
   "metadata": {},
   "outputs": [],
   "source": []
  },
  {
   "cell_type": "code",
   "execution_count": null,
   "id": "25c9ca7c",
   "metadata": {},
   "outputs": [],
   "source": []
  }
 ],
 "metadata": {
  "kernelspec": {
   "display_name": "Python 3",
   "language": "python",
   "name": "python3"
  },
  "language_info": {
   "codemirror_mode": {
    "name": "ipython",
    "version": 3
   },
   "file_extension": ".py",
   "mimetype": "text/x-python",
   "name": "python",
   "nbconvert_exporter": "python",
   "pygments_lexer": "ipython3",
   "version": "3.8.8"
  }
 },
 "nbformat": 4,
 "nbformat_minor": 5
}
